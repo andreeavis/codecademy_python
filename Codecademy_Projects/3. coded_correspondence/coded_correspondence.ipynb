{
 "cells": [
  {
   "cell_type": "markdown",
   "metadata": {},
   "source": [
    "# Casual Coded Correspondence: The Project\n",
    "\n",
    "In this project, you will be working to code and decode various messages between you and your fictional cryptography enthusiast pen pal Vishal. You and Vishal have been exchanging letters for quite some time now and have started to provide a puzzle in each one of your letters.  Here is his most recent letter:\n",
    "\n",
    "     Hey there! How have you been? I've been great! I just learned about this really cool type of cipher called a  Caesar Cipher. Here's how it works: You take your message, something like \"hello\" and then you shift all of the letters by a certain offset. For example, if I chose an offset of 3 and a message of \"hello\", I would code my message by shifting each letter 3 places to the left (with respect to the alphabet). So \"h\" becomes \"e\", \"e\" becomes, \"b\", \"l\" becomes \"i\", and \"o\" becomes \"l\". Then I have my coded message,\"ebiil\"! Now I can send you my message and the offset and you can decode it. The best thing is that Julius Caesar himself used this cipher, that's why it's called the Caesar Cipher! Isn't that so cool! Okay, now I'm going to send you a longer coded message that you have to decode yourself!\n",
    "    \n",
    "        xuo jxuhu! jxyi yi qd unqcfbu ev q squiqh syfxuh. muhu oek qrbu je tusetu yj? y xefu ie! iudt cu q cuiiqwu rqsa myjx jxu iqcu evviuj!\n",
    "    \n",
    "    This message has an offset of 10. Can you decode it?\n",
    "    \n",
    "\n",
    "#### Step 1: Decode Vishal's Message\n",
    "In the cell below, use your Python skills to decode Vishal's message and print the result. Hint: you can account for shifts that go past the end of the alphabet using the modulus operator, but I'll let you figure out how!"
   ]
  },
  {
   "cell_type": "code",
   "execution_count": 35,
   "metadata": {},
   "outputs": [
    {
     "name": "stdout",
     "output_type": "stream",
     "text": [
      "hey there! this is an example of a caesar cipher. were you able to decode it? i hope so! send me a message back with the same offset!\n"
     ]
    }
   ],
   "source": [
    "alphabet = 'abcdefghijklmnopqrstuvwxyz'\n",
    "punctuation = ' !?.,'\n",
    "message = 'xuo jxuhu! jxyi yi qd unqcfbu ev q squiqh syfxuh. muhu oek qrbu je tusetu yj? y xefu ie! iudt cu q cuiiqwu rqsa myjx jxu iqcu evviuj!'\n",
    "key = 10\n",
    "decoded = ''\n",
    "\n",
    "for char in message:\n",
    "    if not char in punctuation:\n",
    "        char_index = alphabet.find(char)\n",
    "        # print(char_index)\n",
    "        decoded_index = (char_index + key) % 26\n",
    "        # print(decoded_index)\n",
    "        decoded += alphabet[decoded_index]\n",
    "    else:\n",
    "        decoded += char\n",
    "\n",
    "print(decoded)"
   ]
  },
  {
   "cell_type": "markdown",
   "metadata": {},
   "source": [
    "#### Step 2: Send Vishal a Coded Message\n",
    "Great job! Now send Vishal back a message using the same offset. Your message can be anything you want! Remember, coding happens in opposite direction of decoding."
   ]
  },
  {
   "cell_type": "code",
   "execution_count": 16,
   "metadata": {},
   "outputs": [
    {
     "name": "stdout",
     "output_type": "stream",
     "text": [
      "jho je tusetu co cuiiqwu, lyixqb!\n"
     ]
    }
   ],
   "source": [
    "alphabet = 'abcdefghijklmnopqrstuvwxyz'\n",
    "punctuation = ' !?.,'\n",
    "message_v = \"Try to decode my message, Vishal!\"\n",
    "key = 10\n",
    "coded = ''\n",
    "\n",
    "for char in message_v.lower():\n",
    "    if not char in punctuation:\n",
    "        char_index = alphabet.find(char)\n",
    "        coded_index = (char_index - key) % 26\n",
    "        coded += alphabet[coded_index]\n",
    "    else:\n",
    "        coded += char\n",
    "print(coded)\n"
   ]
  },
  {
   "cell_type": "markdown",
   "metadata": {},
   "source": [
    "#### Step 3: Make functions for decoding and coding \n",
    "\n",
    "Vishal sent over another reply, this time with two coded messages!\n",
    "    \n",
    "    You're getting the hang of this! Okay here are two more messages, the first one is coded just like before with  an offset of ten, and it contains the hint for decoding the second message!\n",
    "    \n",
    "    First message:\n",
    "    \n",
    "        jxu evviuj veh jxu iusedt cuiiqwu yi vekhjuud.\n",
    "        \n",
    "    Second message:\n",
    "    \n",
    "        bqdradyuzs ygxfubxq omqemd oubtqde fa oapq kagd yqeemsqe ue qhqz yadq eqogdq!\n",
    "    \n",
    "Decode both of these messages. \n",
    "\n",
    "If you haven't already, define two functions `decoder(message, offset)` and `coder(message, offset)` that can be used to quickly decode and code messages given any offset."
   ]
  },
  {
   "cell_type": "code",
   "execution_count": 31,
   "metadata": {},
   "outputs": [
    {
     "data": {
      "text/plain": [
       "'try to decode my message, vishal!'"
      ]
     },
     "execution_count": 31,
     "metadata": {},
     "output_type": "execute_result"
    }
   ],
   "source": [
    "alphabet = 'abcdefghijklmnopqrstuvwxyz'\n",
    "punctuation = ' !?.,'\n",
    "# key = 10\n",
    "\n",
    "\n",
    "def decoder(message, key):\n",
    "    decoded = ''\n",
    "    for char in message.lower():\n",
    "        if char not in punctuation:\n",
    "            char_index = alphabet.find(char)\n",
    "            decoded_index = (char_index + key) % 26\n",
    "            decoded += alphabet[decoded_index]\n",
    "        else:\n",
    "            decoded += char \n",
    "    return decoded\n",
    "\n",
    "message1 = 'jxu evviuj veh jxu iusedt cuiiqwu yi vekhjuud.'\n",
    "message2 = 'bqdradyuzs ygxfubxq omqemd oubtqde fa oapq kagd yqeemsqe ue qhqz yadq eqogdq!'\n",
    "message3 = 'jho je tusetu co cuiiqwu, lyixqb!'\n",
    "decoder(message1, 10)\n",
    "decoder(message2, 14)\n",
    "decoder(message3, 10)"
   ]
  },
  {
   "cell_type": "code",
   "execution_count": 32,
   "metadata": {},
   "outputs": [],
   "source": [
    "alphabet = 'abcdefghijklmnopqrstuvwxyz'\n",
    "punctuation = ' !?.,'\n",
    "\n",
    "def coder(message, key):\n",
    "    coded = ''\n",
    "    for char in message.lower():\n",
    "        if char not in punctuation:\n",
    "            char_index = alphabet.find(char)\n",
    "            coded_index = (char_index - key) % 26\n",
    "            coded += alphabet[coded_index]\n",
    "        else:\n",
    "            coded += char\n",
    "    return coded\n",
    "    \n",
    "    "
   ]
  },
  {
   "cell_type": "markdown",
   "metadata": {},
   "source": [
    "#### Step 4: Solving a Caesar Cipher without knowing the shift value\n",
    "\n",
    "Awesome work! While you were working to decode his last two messages, Vishal sent over another letter! He's really been bitten by the crytpo-bug. Read it and see what interesting task he has lined up for you this time.\n",
    "\n",
    "            Hello again friend! I knew you would love the Caesar Cipher, it's a cool simple way to encrypt messages. Did you know that back in Caesar's time, it was considered a very secure way of communication and it took a lot of effort to crack if you were unaware of the value of the shift? That's all changed with computers! Now we can brute force these kinds of ciphers very quickly, as I'm sure you can imagine.\n",
    "            \n",
    "            To test your cryptography skills, this next coded message is going to be harder than the last couple to crack. It's still going to be coded with a Caesar Cipher but this time I'm not going to tell you the value of   the shift. You'll have to brute force it yourself.\n",
    "            \n",
    "            Here's the coded message:\n",
    "            \n",
    "            vhfinmxkl atox kxgwxkxw tee hy maxlx hew vbiaxkl tl hulhexmx. px'ee atox mh kxteer lmxi ni hnk ztfx by px ptgm mh dxxi hnk fxlltzxl ltyx.\n",
    "            \n",
    "            Good luck!\n",
    "            \n",
    "Decode Vishal's most recent message and see what it says!"
   ]
  },
  {
   "cell_type": "code",
   "execution_count": 33,
   "metadata": {},
   "outputs": [
    {
     "name": "stdout",
     "output_type": "stream",
     "text": [
      "key is number:  1\n",
      "\t wigjonylm bupy lyhxylyx uff iz nbymy ifx wcjbylm um ivmifyny. qyaff bupy ni lyuffs mnyj oj iol augy cz qy quhn ni eyyj iol gymmuaym muzy. \n",
      "\n",
      "key is number:  2\n",
      "\t xjhkpozmn cvqz mziyzmzy vgg ja ocznz jgy xdkczmn vn jwnjgzoz. rzbgg cvqz oj mzvggt nozk pk jpm bvhz da rz rvio oj fzzk jpm hznnvbzn nvaz. \n",
      "\n",
      "key is number:  3\n",
      "\t ykilqpano dwra najzanaz whh kb pdaoa khz yeldano wo kxokhapa. sachh dwra pk nawhhu opal ql kqn cwia eb sa swjp pk gaal kqn iaoowcao owba. \n",
      "\n",
      "key is number:  4\n",
      "\t zljmrqbop exsb obkaboba xii lc qebpb lia zfmebop xp lyplibqb. tbdii exsb ql obxiiv pqbm rm lro dxjb fc tb txkq ql hbbm lro jbppxdbp pxcb. \n",
      "\n",
      "key is number:  5\n",
      "\t amknsrcpq fytc pclbcpcb yjj md rfcqc mjb agnfcpq yq mzqmjcrc. ucejj fytc rm pcyjjw qrcn sn msp eykc gd uc uylr rm iccn msp kcqqyecq qydc. \n",
      "\n",
      "key is number:  6\n",
      "\t bnlotsdqr gzud qdmcdqdc zkk ne sgdrd nkc bhogdqr zr narnkdsd. vdfkk gzud sn qdzkkx rsdo to ntq fzld he vd vzms sn jddo ntq ldrrzfdr rzed. \n",
      "\n",
      "key is number:  7\n",
      "\t computers have rendered all of these old ciphers as obsolete. wegll have to really step up our game if we want to keep our messages safe. \n",
      "\n",
      "key is number:  8\n",
      "\t dpnqvufst ibwf sfoefsfe bmm pg uiftf pme djqifst bt pctpmfuf. xfhmm ibwf up sfbmmz tufq vq pvs hbnf jg xf xbou up lffq pvs nfttbhft tbgf. \n",
      "\n",
      "key is number:  9\n",
      "\t eqorwvgtu jcxg tgpfgtgf cnn qh vjgug qnf ekrjgtu cu qduqngvg. yginn jcxg vq tgcnna uvgr wr qwt icog kh yg ycpv vq mggr qwt oguucigu uchg. \n",
      "\n",
      "key is number:  10\n",
      "\t frpsxwhuv kdyh uhqghuhg doo ri wkhvh rog flskhuv dv revrohwh. zhjoo kdyh wr uhdoob vwhs xs rxu jdph li zh zdqw wr nhhs rxu phvvdjhv vdih. \n",
      "\n",
      "key is number:  11\n",
      "\t gsqtyxivw lezi virhivih epp sj xliwi sph gmtlivw ew sfwspixi. aikpp lezi xs vieppc wxit yt syv keqi mj ai aerx xs oiit syv qiwwekiw weji. \n",
      "\n",
      "key is number:  12\n",
      "\t htruzyjwx mfaj wjsijwji fqq tk ymjxj tqi hnumjwx fx tgxtqjyj. bjlqq mfaj yt wjfqqd xyju zu tzw lfrj nk bj bfsy yt pjju tzw rjxxfljx xfkj. \n",
      "\n",
      "key is number:  13\n",
      "\t iusvazkxy ngbk xktjkxkj grr ul znkyk urj iovnkxy gy uhyurkzk. ckmrr ngbk zu xkgrre yzkv av uax mgsk ol ck cgtz zu qkkv uax skyygmky yglk. \n",
      "\n",
      "key is number:  14\n",
      "\t jvtwbalyz ohcl yluklylk hss vm aolzl vsk jpwolyz hz vizvslal. dlnss ohcl av ylhssf zalw bw vby nhtl pm dl dhua av rllw vby tlzzhnlz zhml. \n",
      "\n",
      "key is number:  15\n",
      "\t kwuxcbmza pidm zmvlmzml itt wn bpmam wtl kqxpmza ia wjawtmbm. emott pidm bw zmittg abmx cx wcz oium qn em eivb bw smmx wcz umaaioma ainm. \n",
      "\n",
      "key is number:  16\n",
      "\t lxvydcnab qjen anwmnanm juu xo cqnbn xum lryqnab jb xkbxuncn. fnpuu qjen cx anjuuh bcny dy xda pjvn ro fn fjwc cx tnny xda vnbbjpnb bjon. \n",
      "\n",
      "key is number:  17\n",
      "\t mywzedobc rkfo boxnobon kvv yp droco yvn mszrobc kc ylcyvodo. goqvv rkfo dy bokvvi cdoz ez yeb qkwo sp go gkxd dy uooz yeb wocckqoc ckpo. \n",
      "\n",
      "key is number:  18\n",
      "\t nzxafepcd slgp cpyopcpo lww zq espdp zwo ntaspcd ld zmdzwpep. hprww slgp ez cplwwj depa fa zfc rlxp tq hp hlye ez vppa zfc xpddlrpd dlqp. \n",
      "\n",
      "key is number:  19\n",
      "\t oaybgfqde tmhq dqzpqdqp mxx ar ftqeq axp oubtqde me aneaxqfq. iqsxx tmhq fa dqmxxk efqb gb agd smyq ur iq imzf fa wqqb agd yqeemsqe emrq. \n",
      "\n",
      "key is number:  20\n",
      "\t pbzchgref unir eraqrerq nyy bs gurfr byq pvcuref nf bofbyrgr. jrtyy unir gb ernyyl fgrc hc bhe tnzr vs jr jnag gb xrrc bhe zrffntrf fnsr. \n",
      "\n",
      "key is number:  21\n",
      "\t qcadihsfg vojs fsbrsfsr ozz ct hvsgs czr qwdvsfg og cpgczshs. ksuzz vojs hc fsozzm ghsd id cif uoas wt ks kobh hc yssd cif asggousg gots. \n",
      "\n",
      "key is number:  22\n",
      "\t rdbejitgh wpkt gtcstgts paa du iwtht das rxewtgh ph dqhdatit. ltvaa wpkt id gtpaan hite je djg vpbt xu lt lpci id ztte djg bthhpvth hput. \n",
      "\n",
      "key is number:  23\n",
      "\t secfkjuhi xqlu hudtuhut qbb ev jxuiu ebt syfxuhi qi eriebuju. muwbb xqlu je huqbbo ijuf kf ekh wqcu yv mu mqdj je auuf ekh cuiiqwui iqvu. \n",
      "\n",
      "key is number:  24\n",
      "\t tfdglkvij yrmv iveuvivu rcc fw kyvjv fcu tzgyvij rj fsjfcvkv. nvxcc yrmv kf ivrccp jkvg lg fli xrdv zw nv nrek kf bvvg fli dvjjrxvj jrwv. \n",
      "\n",
      "key is number:  25\n",
      "\t ugehmlwjk zsnw jwfvwjwv sdd gx lzwkw gdv uahzwjk sk gtkgdwlw. owydd zsnw lg jwsddq klwh mh gmj ysew ax ow osfl lg cwwh gmj ewkksywk ksxw. \n",
      "\n"
     ]
    }
   ],
   "source": [
    "# alphabet = 'abcdefghijklmnopqrstuvwxyz'\n",
    "# punctuation = ' !?.,'\n",
    "# decoded = ''\n",
    "message4 = \"vhfinmxkl atox kxgwxkxw tee hy maxlx hew vbiaxkl tl hulhexmx. px'ee atox mh kxteer lmxi ni hnk ztfx by px ptgm mh dxxi hnk fxlltzxl ltyx.\"\n",
    "\n",
    "# for key in range(len(alphabet)):\n",
    "#     print(\"key: \", str(key))\n",
    "#     for char in message:\n",
    "#         if char in alphabet:\n",
    "#             char_index = alphabet.find(char)\n",
    "#             decoded_index = (char_index + key) % 26\n",
    "#             decoded += alphabet[decoded_index]\n",
    "#         else:\n",
    "#             decoded += char\n",
    "#     print(decoded)\n",
    "\n",
    "for key in range(1, len(alphabet)):\n",
    "    print(\"key is number: \", str(key))\n",
    "    print(\"\\t\", decoder(message4, key), \"\\n\")"
   ]
  },
  {
   "cell_type": "markdown",
   "metadata": {},
   "source": [
    "#### Step 5: The Vigenère Cipher\n",
    "\n",
    "Great work! While you were working on the brute force cracking of the cipher, Vishal sent over another letter. That guy is a letter machine!\n",
    "\n",
    "            Salutations! As you can see, technology has made brute forcing simple ciphers like the Caesar Cipher extremely easy, and us crypto-enthusiasts have had to get more creative and use more complicated ciphers. This next cipher I'm going to teach you is the Vigenère Cipher, invented by an Italian cryptologist named Giovan Battista Bellaso (cool name eh?) in the 16th century, but named after another cryptologist from the 16th century, Blaise de Vigenère.\n",
    "            \n",
    "           The Vigenère Cipher is a polyalphabetic substitution cipher, as opposed to the Caesar Cipher which was a monoalphabetic substitution cipher. What this means is that opposed to having a single shift that is applied to every letter, the Vigenère Cipher has a different shift for each individual letter. The value of the shift for each letter is determined by a given keyword.\n",
    "           \n",
    "           Consider the message\n",
    "           \n",
    "               barryisthespy\n",
    "\n",
    "           If we want to code this message, first we choose a keyword. For this example, we'll use the keyword\n",
    "           \n",
    "               dog\n",
    "               \n",
    "           Now we use the repeat the keyword over and over to generate a _keyword phrase_ that is the same length as the message we want to code. So if we want to code the message \"barryisthespy\" our _keyword phrase_ is \"dogdogdogdogd\". Now we are ready to start coding our message. We shift the first letter by the difference between the place value of the first letter in the message and the place value of the first letter in the keyword phrase.\n",
    "\n",
    "                        message:       b  a  r  r  y  i  s  t  h  e  s  p  y\n",
    "                \n",
    "                 keyword phrase:       d  o  g  d  o  g  d  o  g  d  o  g  d\n",
    "                 \n",
    "      difference in place value:       4  14 15 12 16 24 11 21 25 22 22 17 5\n",
    "      \n",
    "            So we shift \"b\" by four places and get \"e\", we shift \"a\" by 14 places and get \"o\", we shift \"r\" by 15 places and get \"x\", shift the next \"r\" by 12 places and \"u\", and so forth. Once we complete all the shifts we end up with our coded message:\n",
    "            \n",
    "                eoxumovhnhgvb\n",
    "                \n",
    "            As you can imagine, this is a lot harder to crack without knowing the keyword! So now comes the hard part. I'll give you a message and the keyword, and you'll see if you can figure out how to crack it! Ready? Okay here's my message:\n",
    "            \n",
    "                dfc jhjj ifyh yf hrfgiv xulk? vmph bfzo! qtl eeh gvkszlfl yyvww kpi hpuvzx dl tzcgrywrxll!\n",
    "                \n",
    "            and the keyword to decode my message is \n",
    "            \n",
    "                friends\n",
    "                \n",
    "            Because that's what we are! Good luck friend!\n",
    "           \n",
    "And there it is. Vishal has given you quite the assignment this time! Try to decode his message. It may be helpful to create a function that takes two parameters, the coded message and the keyword and then work towards a solution from there."
   ]
  },
  {
   "cell_type": "code",
   "execution_count": 75,
   "metadata": {},
   "outputs": [
    {
     "name": "stdout",
     "output_type": "stream",
     "text": [
      "you were able to decode this? nice work! you are becoming quite the expert at crytography!\n"
     ]
    }
   ],
   "source": [
    "alphabet = 'abcdefghijklmnopqrstuvwxyz'\n",
    "punctuation = ' !?.,'\n",
    "message = \"dfc jhjj ifyh yf hrfgiv xulk? vmph bfzo! qtl eeh gvkszlfl yyvww kpi hpuvzx dl tzcgrywrxll!\"\n",
    "key = 'friends'\n",
    "\n",
    "def decrypt_v(message, key):\n",
    "    k_repeat = \"\"\n",
    "    while len(k_repeat) < len(message):\n",
    "        k_repeat += key\n",
    "    final_k = k_repeat[0:len(message)]\n",
    "    decoded =\"\"\n",
    "    for n in range(len(message)):\n",
    "        if not message[n] in punctution:\n",
    "            ci = alphabet.find(message[n]) - alphabet.find(final_k[n])\n",
    "            decoded += alphabet[ci % 26]\n",
    "        else:\n",
    "            decoded += message[n]\n",
    "    return decoded\n",
    "\n",
    "print(decrypt(message, key))\n",
    "\n",
    "\n",
    "# another option, but it doesn't consider empty spaces as characters, so it creates a string\n",
    "# without spaces\n",
    "\n",
    "# def decrypt(ciphertext, key):\n",
    "#     key_length = len(key)\n",
    "#     key_as_int = [ord(i) for i in key]\n",
    "#     ciphertext_int = [ord(i) for i in ciphertext]\n",
    "#     plaintext = ''\n",
    "#     for i in range(len(ciphertext_int)):\n",
    "#         value = (ciphertext_int[i] - key_as_int[i % key_length]) % 26\n",
    "#         plaintext += chr(value + 65)\n",
    "#     return plaintext\n"
   ]
  },
  {
   "cell_type": "markdown",
   "metadata": {
    "collapsed": true
   },
   "source": [
    "#### Step 6: Send a message with the  Vigenère Cipher\n",
    "Great work decoding the message. For your final task, write a function that can encode a message using a given keyword and write out a message to send to Vishal!"
   ]
  },
  {
   "cell_type": "code",
   "execution_count": 73,
   "metadata": {},
   "outputs": [
    {
     "name": "stdout",
     "output_type": "stream",
     "text": [
      "fct elymk hhgw, tigck uw gkax!\n"
     ]
    }
   ],
   "source": [
    "alphabet = 'abcdefghijklmnopqrstuvwxyz'\n",
    "punctuation = ' !?.,'\n",
    "message = \"all right dude, let's do this!\"\n",
    "key = 'friends'\n",
    "\n",
    "def encrypt(message, keyword):\n",
    "    keyword_repeat = ''\n",
    "    while len(keyword_repeat) < len(message):\n",
    "        keyword_repeat += keyword\n",
    "    final_key = keyword_repeat[0:len(message)]\n",
    "    coded = ''\n",
    "    for i in range(len(message)):\n",
    "        if not message[i] in punctuation: \n",
    "            ci = alphabet.find(message[i]) + alphabet.find(final_key[i])\n",
    "            coded += alphabet[ci % 26]\n",
    "        else:\n",
    "            coded += message[i]\n",
    "    return coded\n",
    "        \n",
    "print(encrypt(message, key))"
   ]
  },
  {
   "cell_type": "markdown",
   "metadata": {},
   "source": [
    "#### Conclusion\n",
    "Over the course of this project you've learned about two different cipher methods and have used your Python skills to code and decode messages. There are all types of other facinating ciphers out there to explore, and Python is the perfect language to implement them with, so go exploring! "
   ]
  }
 ],
 "metadata": {
  "kernelspec": {
   "display_name": "Python 3",
   "language": "python",
   "name": "python3"
  },
  "language_info": {
   "codemirror_mode": {
    "name": "ipython",
    "version": 3
   },
   "file_extension": ".py",
   "mimetype": "text/x-python",
   "name": "python",
   "nbconvert_exporter": "python",
   "pygments_lexer": "ipython3",
   "version": "3.6.5"
  }
 },
 "nbformat": 4,
 "nbformat_minor": 2
}
